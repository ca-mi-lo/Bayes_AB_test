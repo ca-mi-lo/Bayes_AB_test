{
 "cells": [
  {
   "cell_type": "code",
   "execution_count": 1,
   "id": "5ef1394b-49cc-44e1-8967-9347e575cb22",
   "metadata": {
    "tags": []
   },
   "outputs": [],
   "source": [
    "import numpy as np\n",
    "from scipy.stats import norm\n",
    "from statsmodels.stats.weightstats import ztest"
   ]
  },
  {
   "cell_type": "markdown",
   "id": "458dfe58-2bc3-4cc0-8920-747b5bfce224",
   "metadata": {},
   "source": [
    "$$  Z = \\frac{X - \\mu}{\\sigma} \\Rightarrow X = Z \\cdot \\sigma + \\mu  $$"
   ]
  },
  {
   "cell_type": "code",
   "execution_count": 33,
   "id": "91519e22-093c-4067-a6d3-8e5a7e539116",
   "metadata": {
    "tags": []
   },
   "outputs": [],
   "source": [
    "np.random.seed(0)\n",
    "N = 100\n",
    "mu = 0.2\n",
    "sigma = 1\n",
    "x = np.random.randn(N)*sigma + mu"
   ]
  },
  {
   "cell_type": "code",
   "execution_count": 34,
   "id": "88a45ff0-cc48-40a3-9e4a-72d9f50b7f4e",
   "metadata": {
    "tags": []
   },
   "outputs": [
    {
     "name": "stdout",
     "output_type": "stream",
     "text": [
      "z-statistic: 2.5648404\n",
      "p-value:     0.0103223\n"
     ]
    }
   ],
   "source": [
    "# two-sided test\n",
    "# https://www.statsmodels.org/stable/generated/statsmodels.stats.weightstats.ztest.html\n",
    "print(f\"z-statistic: {ztest(x)[0]:.8}\\np-value:     {ztest(x)[1]:.6}\")"
   ]
  },
  {
   "cell_type": "code",
   "execution_count": 35,
   "id": "4d8fb5c7-2f12-41d0-aa02-7d5899c70547",
   "metadata": {
    "tags": []
   },
   "outputs": [
    {
     "data": {
      "text/plain": [
       "(2.564840415351368, 0.010322326848815901)"
      ]
     },
     "execution_count": 35,
     "metadata": {},
     "output_type": "execute_result"
    }
   ],
   "source": [
    "# two-sided test (a pie)\n",
    "mu_hat = x.mean()\n",
    "sigma_hat = x.std(ddof=1)\n",
    "z = mu_hat / (sigma_hat / np.sqrt(N)) # our mu0 = 0,  no pinta en la fórmula por eso\n",
    "p_right = 1 - norm.cdf(np.abs(z)) # alt: norm.sf\n",
    "p_left  = norm.cdf(-np.abs(z))\n",
    "p = p_right + p_left\n",
    "z, p"
   ]
  },
  {
   "cell_type": "code",
   "execution_count": 36,
   "id": "6fb3ff9b-f5d8-453b-9718-cdee3e72be79",
   "metadata": {},
   "outputs": [
    {
     "data": {
      "text/plain": [
       "(2.5648404153513686, 0.00516116342440792)"
      ]
     },
     "execution_count": 36,
     "metadata": {},
     "output_type": "execute_result"
    }
   ],
   "source": [
    "# one-sided test\n",
    "ztest(x, alternative='larger')"
   ]
  },
  {
   "cell_type": "markdown",
   "id": "fd9d70bb-3b66-4789-8539-bb520c9ac473",
   "metadata": {
    "tags": []
   },
   "source": [
    "Note that z is exactly the same and the p-value is half of the two-sided p-value"
   ]
  },
  {
   "cell_type": "code",
   "execution_count": 37,
   "id": "152ca643-7169-4dd0-a3bb-c5e703ae7900",
   "metadata": {
    "tags": []
   },
   "outputs": [
    {
     "data": {
      "text/plain": [
       "(2.564840415351368, 0.005161163424407977)"
      ]
     },
     "execution_count": 37,
     "metadata": {},
     "output_type": "execute_result"
    }
   ],
   "source": [
    "# two-sided test (a pie)\n",
    "mu_hat = x.mean()\n",
    "sigma_hat = x.std(ddof=1)\n",
    "z = mu_hat / (sigma_hat / np.sqrt(N)) # our mu0 = 0\n",
    "p = 1 - norm.cdf(z) \n",
    "z,p"
   ]
  },
  {
   "cell_type": "code",
   "execution_count": 40,
   "id": "5537228c-7ac8-4e6f-a433-1cf95b1f8dba",
   "metadata": {
    "tags": []
   },
   "outputs": [
    {
     "data": {
      "text/plain": [
       "(0.5904283402851699, 0.5549035151647227)"
      ]
     },
     "execution_count": 40,
     "metadata": {},
     "output_type": "execute_result"
    }
   ],
   "source": [
    "# null under a different reference value\n",
    "mu0 = 0.2\n",
    "ztest(x, value = mu0)"
   ]
  },
  {
   "cell_type": "markdown",
   "id": "690b131b-384a-412b-a538-e0a5281f3c46",
   "metadata": {
    "tags": []
   },
   "source": [
    "Se observa un p-value muy grande (0.55), lo cual hace sentido, ya que $$Ho: \\mu1=\\mu2$$ es cierta... \n",
    "We fail to reject the null hipotesis"
   ]
  },
  {
   "cell_type": "code",
   "execution_count": 41,
   "id": "c56000ea-9e67-4af0-91eb-e5d20a8c466c",
   "metadata": {
    "tags": []
   },
   "outputs": [
    {
     "data": {
      "text/plain": [
       "(0.5904283402851698, 0.5549035151647228)"
      ]
     },
     "execution_count": 41,
     "metadata": {},
     "output_type": "execute_result"
    }
   ],
   "source": [
    "# Ahora a pata...\n",
    "mu_hat = x.mean()\n",
    "sigma_hat = x.std(ddof=1)\n",
    "z = (mu_hat - mu0) / (sigma_hat / np.sqrt(N)) # mu0 <> 0\n",
    "p_right = 1 - norm.cdf(np.abs(z))\n",
    "p_left = norm.cdf(-np.abs(z))\n",
    "p = p_right + p_left\n",
    "z, p"
   ]
  },
  {
   "cell_type": "code",
   "execution_count": 57,
   "id": "1bd8907f-d795-496f-b1f6-ddf8f594118e",
   "metadata": {
    "tags": []
   },
   "outputs": [],
   "source": [
    "# two-sample test\n",
    "N0 = 100\n",
    "mu0 = 0.2\n",
    "sigma0 = 1\n",
    "x0 = np.random.randn(N0)*sigma0 + mu0\n",
    "\n",
    "N1 = 100\n",
    "mu1 = 0.5\n",
    "sigma1 = 1\n",
    "x1 = np.random.randn(N1)*sigma1 + mu1"
   ]
  },
  {
   "cell_type": "code",
   "execution_count": 58,
   "id": "eeaec643-bcdb-4272-b03e-1673d3f5f62a",
   "metadata": {
    "tags": []
   },
   "outputs": [
    {
     "data": {
      "text/plain": [
       "(-1.179278372692488, 0.23828734723243983)"
      ]
     },
     "execution_count": 58,
     "metadata": {},
     "output_type": "execute_result"
    }
   ],
   "source": [
    "ztest(x0,x1)"
   ]
  },
  {
   "cell_type": "code",
   "execution_count": 62,
   "id": "be85617d-2b16-43a4-9033-043c35375495",
   "metadata": {
    "tags": []
   },
   "outputs": [
    {
     "data": {
      "text/plain": [
       "(1.179278372692488, 0.23828734723243983)"
      ]
     },
     "execution_count": 62,
     "metadata": {},
     "output_type": "execute_result"
    }
   ],
   "source": [
    "# two-sided  a pata\n",
    "mu_hat0 = x0.mean()\n",
    "mu_hat1 = x1.mean()\n",
    "dmu_hat = mu_hat1 - mu_hat0\n",
    "s2_hat0 = x0.var(ddof=1)\n",
    "s2_hat1 = x1.var(ddof=1)\n",
    "s_hat = np.sqrt(s2_hat0/N0 + s2_hat1/N1)\n",
    "z = dmu_hat / s_hat # reference value is 0\n",
    "p_right = 1 - norm.cdf(np.abs(z))\n",
    "p_left = norm.cdf(-np.abs(z))\n",
    "p = p_right + p_left\n",
    "z, p"
   ]
  },
  {
   "cell_type": "markdown",
   "id": "b47b1d6e-4b68-4a2b-9038-3a49aa96890a",
   "metadata": {},
   "source": [
    "The statistic may be different by a sign, this happens becoause the test may exchange x0 and x1."
   ]
  },
  {
   "cell_type": "code",
   "execution_count": 63,
   "id": "2a29c1f2-9bfa-462b-adc1-078160d38b4a",
   "metadata": {
    "tags": []
   },
   "outputs": [
    {
     "name": "stdout",
     "output_type": "stream",
     "text": [
      "0.0522\n"
     ]
    }
   ],
   "source": [
    "# show that we will reject the null hypotesis when the \n",
    "# null hypothesis is true (false alarm) 5% of the time\n",
    "\n",
    "num_tests= 10000\n",
    "results = np.zeros(num_tests)\n",
    "for i in range(num_tests):\n",
    "    x1 = np.random.rand(100)\n",
    "    x2 = np.random.rand(100)\n",
    "    z, p = ztest(x1, x2)\n",
    "    results[i] = (p < 0.05)\n",
    "print(results.mean())"
   ]
  },
  {
   "cell_type": "markdown",
   "id": "e2049fe0-ca94-48b7-9c99-8ffdce7bc82d",
   "metadata": {},
   "source": [
    "Esto significa que las medias sí son iguales el 95% de las veces, o mejor dicho, el 5.22% de las veces, no logramos rechazar la hipótesis de que las medias son iguales"
   ]
  },
  {
   "cell_type": "code",
   "execution_count": null,
   "id": "6527a0fd-d078-4dfe-88bb-c0d5de749763",
   "metadata": {},
   "outputs": [],
   "source": []
  }
 ],
 "metadata": {
  "kernelspec": {
   "display_name": "Python 3 (ipykernel)",
   "language": "python",
   "name": "python3"
  },
  "language_info": {
   "codemirror_mode": {
    "name": "ipython",
    "version": 3
   },
   "file_extension": ".py",
   "mimetype": "text/x-python",
   "name": "python",
   "nbconvert_exporter": "python",
   "pygments_lexer": "ipython3",
   "version": "3.10.9"
  }
 },
 "nbformat": 4,
 "nbformat_minor": 5
}
