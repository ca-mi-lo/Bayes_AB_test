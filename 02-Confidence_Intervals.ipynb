{
 "cells": [
  {
   "cell_type": "code",
   "execution_count": 1,
   "id": "f2a38cf2-b443-419b-8cef-51d8fda546dc",
   "metadata": {
    "tags": []
   },
   "outputs": [],
   "source": [
    "import numpy as np\n",
    "from scipy.stats import norm, t"
   ]
  },
  {
   "cell_type": "code",
   "execution_count": 2,
   "id": "194feb1d-7d6e-49e7-8bf1-75388d8c2337",
   "metadata": {
    "tags": []
   },
   "outputs": [],
   "source": [
    "np.random.seed(1)"
   ]
  },
  {
   "cell_type": "markdown",
   "id": "6f5d0f0b-1682-42da-b243-d1cf26ab9ad0",
   "metadata": {},
   "source": [
    "$$  Z = \\frac{X - \\mu}{\\sigma} \\Rightarrow X = Z \\cdot \\sigma + \\mu  $$"
   ]
  },
  {
   "cell_type": "code",
   "execution_count": 6,
   "id": "1d7683ab-78f8-44d2-92b9-1f2ece3cbe91",
   "metadata": {
    "tags": []
   },
   "outputs": [],
   "source": [
    "N = 1000\n",
    "mu = 5\n",
    "sigma = 2\n",
    "X = np.random.randn(N)*sigma +mu"
   ]
  },
  {
   "cell_type": "markdown",
   "id": "c0774cd6-694a-4edc-b302-ba362821c824",
   "metadata": {},
   "source": [
    "$$ \\mu = \\bar{X} \\pm Z_{\\alpha/2} \\times \\left( \\frac{\\sigma}{\\sqrt{n}} \\right) $$"
   ]
  },
  {
   "cell_type": "code",
   "execution_count": 9,
   "id": "fe1daadd-6635-47be-8a56-18ac8d1f6827",
   "metadata": {
    "tags": []
   },
   "outputs": [
    {
     "name": "stdout",
     "output_type": "stream",
     "text": [
      "5.054650886789156 4.926904581440878 5.182397192137435\n"
     ]
    }
   ],
   "source": [
    "# Z-confidence interval\n",
    "mu_hat = np.mean(X)\n",
    "sigma_hat = np.std(X, ddof=1)\n",
    "z_left = norm.ppf(0.025)\n",
    "z_right = norm.ppf(0.975)\n",
    "lower = mu_hat + z_left*sigma_hat / np.sqrt(N)\n",
    "upper = mu_hat + z_right*sigma_hat / np.sqrt(N)\n",
    "print(mu_hat, lower, upper)"
   ]
  },
  {
   "cell_type": "code",
   "execution_count": 10,
   "id": "16036bb1-66c2-462d-8596-71daf50a8e02",
   "metadata": {
    "tags": []
   },
   "outputs": [
    {
     "name": "stdout",
     "output_type": "stream",
     "text": [
      "5.054650886789156 4.926749622547115 5.182552151031198\n"
     ]
    }
   ],
   "source": [
    "# Z-confidence interval\n",
    "mu_hat = np.mean(X)\n",
    "sigma_hat = np.std(X, ddof=1)\n",
    "z_left = t.ppf(0.025, df = N-1)\n",
    "z_right = t.ppf(0.975, df = N-1)\n",
    "lower = mu_hat + z_left*sigma_hat / np.sqrt(N)\n",
    "upper = mu_hat + z_right*sigma_hat / np.sqrt(N)\n",
    "print(mu_hat, lower, upper)"
   ]
  },
  {
   "cell_type": "code",
   "execution_count": 12,
   "id": "1ca3aa10-4143-487b-b587-0ddecb2aaaa3",
   "metadata": {
    "tags": []
   },
   "outputs": [],
   "source": [
    "def experiment():\n",
    "    X = np.random.randn(N)*sigma +mu\n",
    "    mu_hat = np.mean(X)\n",
    "    sigma_hat = np.std(X, ddof=1)\n",
    "    z_left = t.ppf(0.025, df = N-1)\n",
    "    z_right = t.ppf(0.975, df = N-1)\n",
    "    lower = mu_hat + z_left*sigma_hat / np.sqrt(N)\n",
    "    upper = mu_hat + z_right*sigma_hat / np.sqrt(N)\n",
    "    return mu > lower and mu < upper    # boolean"
   ]
  },
  {
   "cell_type": "code",
   "execution_count": 13,
   "id": "19508cfd-8b22-40cb-9d01-803b7f7d8df8",
   "metadata": {
    "tags": []
   },
   "outputs": [],
   "source": [
    "def multi_experiment(M):\n",
    "    results = [experiment() for _ in range(M)]\n",
    "    return np.mean(results)"
   ]
  },
  {
   "cell_type": "code",
   "execution_count": 19,
   "id": "98899f16-6d0f-4463-8dc2-fa25f8bb1380",
   "metadata": {
    "tags": []
   },
   "outputs": [
    {
     "name": "stdout",
     "output_type": "stream",
     "text": [
      "0.9485\n"
     ]
    }
   ],
   "source": [
    "print(multi_experiment(10000))"
   ]
  },
  {
   "cell_type": "markdown",
   "id": "3f5f8c9f-8e0e-46e1-8132-d1ad6de83870",
   "metadata": {},
   "source": [
    "Se observa que el 95% de las veces X cae dentro del intervalo de confianza"
   ]
  },
  {
   "cell_type": "code",
   "execution_count": null,
   "id": "06c8375c-c9aa-4a4f-8b9a-2efc2dd73bf7",
   "metadata": {},
   "outputs": [],
   "source": []
  }
 ],
 "metadata": {
  "kernelspec": {
   "display_name": "Python 3 (ipykernel)",
   "language": "python",
   "name": "python3"
  },
  "language_info": {
   "codemirror_mode": {
    "name": "ipython",
    "version": 3
   },
   "file_extension": ".py",
   "mimetype": "text/x-python",
   "name": "python",
   "nbconvert_exporter": "python",
   "pygments_lexer": "ipython3",
   "version": "3.10.9"
  }
 },
 "nbformat": 4,
 "nbformat_minor": 5
}
