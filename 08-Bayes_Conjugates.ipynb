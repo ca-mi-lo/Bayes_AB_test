{
 "cells": [
  {
   "cell_type": "markdown",
   "id": "6df480a7-4de3-4525-8b40-16a29411887e",
   "metadata": {
    "tags": []
   },
   "source": [
    "#### El paradigma bayesiano:  "
   ]
  },
  {
   "cell_type": "markdown",
   "id": "d0eff5b4-354c-451c-b3c5-6ba213424554",
   "metadata": {
    "tags": []
   },
   "source": [
    "\n",
    "\n",
    "$ P(\\theta|X) = \\frac{P(X|\\theta) \\times P(\\theta)}{P(X)} $  \n",
    "$ P(\\theta|X) \\propto P(X|\\theta) \\times P(\\theta)$ \n",
    "\n",
    "Donde:  \n",
    "$P(\\theta∣X)$ es la distribución a posteriori (posterior).  \n",
    "$P(\\theta)$ es la distribución a priori (prior).  \n",
    "$P(X∣\\theta)$ es la función de verosimilitud (likelihood).  \n",
    "$P(X)$ es la probabilidad marginal de los datos (evidence), que actúa como un factor de normalización y a menudo se calcula como \n",
    "$∫P(X∣θ)×P(θ)dθ$ para garantizar que la suma o integral total de las probabilidades sea 1.\n",
    "\n",
    "En general, no queremos calcular $P(X)$, es difícil e innecesario, dado que sabemos que la integral(LHS) debe de sumar 1."
   ]
  },
  {
   "cell_type": "markdown",
   "id": "3184792a-4542-4863-a742-f581141a6a73",
   "metadata": {},
   "source": [
    "#### Conjugate Priors\n",
    "* There are special pairs of distributions where the posterior has the same distribution as the prior\n",
    "\n",
    "Las distribuciones conjugadas son un concepto importante en estadísticas bayesianas. Cuando **la distribución a priori y la distribución de verosimilitud pertenecen a la misma familia de distribuciones**, se dice que la distribución a priori es conjugada para la distribución de verosimilitud. Esto es útil porque permite que la distribución a posteriori también sea de la misma familia que la distribución a priori, lo que simplifica los cálculos en el contexto bayesiano.\n",
    "\n",
    "A continuación, algunas de las distribuciones conjugadas más comunes:\n",
    "\n",
    "1. **Para la Distribución Bernoulli:**\n",
    "   - **Distribución Conjugada:** Beta\n",
    "   - **Fórmula:**\n",
    "     $ P(\\theta | \\alpha, \\beta) = \\frac{\\theta^{\\alpha - 1} (1 - \\theta)^{\\beta - 1}}{B(\\alpha, \\beta)} $\n",
    "   - Donde $\\alpha$ y $\\beta$ son parámetros de la distribución Beta.\n",
    "\n",
    "2. **Para la Distribución Binomial:**\n",
    "   - **Distribución Conjugada:** Beta\n",
    "   - **Fórmula:**\n",
    "     $ P(\\theta | \\alpha, \\beta) = \\frac{\\theta^{\\alpha + k - 1} (1 - \\theta)^{\\beta + n - k - 1}}{B(\\alpha + k, \\beta + n - k)} $\n",
    "   - Donde $k$ es el número de éxitos en $n ensayos y $\\alpha$, $\\beta$ son parámetros de la distribución Beta.\n",
    "\n",
    "3. **Para la Distribución Poisson:**\n",
    "   - **Distribución Conjugada:** Gamma\n",
    "   - **Fórmula:**\n",
    "     $ P(\\lambda | \\alpha, \\beta) = \\frac{\\beta^\\alpha \\lambda^{\\alpha - 1} e^{-\\beta \\lambda}}{(\\alpha - 1)!} $\n",
    "   - Donde $\\lambda$ es el parámetro de la distribución Poisson y $\\alpha$, $\\beta$ son parámetros de la distribución Gamma.\n",
    "\n",
    "4. **Para la Distribución Normal (con varianza conocida):**\n",
    "   - **Distribución Conjugada:** Normal\n",
    "   - **Fórmula:**\n",
    "     $ P(\\mu | \\mu_0, \\sigma_0^2, x_1, x_2, ..., x_n) = \\mathcal{N}(\\mu | \\mu_n, \\sigma_n^2) $\n",
    "   - Donde $\\mu_0$ y $\\sigma_0^2$ son los parámetros de la distribución Normal a priori, $(x_1, x_2, ..., x_n$ son los datos observados, y $\\mu_n$ y $\\sigma_n^2$ son los parámetros de la distribución Normal a posteriori.\n",
    "\n",
    "\n",
    "5. **Para la Distribución Exponencial:**\n",
    "   - **Distribución Conjugada:** Gamma\n",
    "   - **Fórmula:**\n",
    "$ f(x|\\lambda) = \\lambda e^{-\\lambda x} $\n",
    "\n",
    "La distribución a priori conjugada para $\\lambda$ es otra distribución exponencial con parámetro de tasa $\\alpha. La función de densidad de probabilidad a priori es:\n",
    "\n",
    "$ f(\\lambda|\\alpha) = \\alpha e^{-\\alpha \\lambda} $\n",
    "\n",
    "Cuando se actualiza esta distribución a priori con datos exponenciales, la distribución a posteriori sigue siendo exponencial con un nuevo parámetro de tasa que se calcula como la suma del parámetro a priori y la suma de los datos observados. Esto es, si observamos $n$ datos exponenciales $(x_1, x_2, ..., x_n)$, la distribución a posteriori para $\\lambda$ sería:\n",
    "\n",
    "$ f(\\lambda | x_1, x_2, ..., x_n, \\alpha) = (\\alpha + n)e^{-(\\alpha + \\sum_{i=1}^{n} x_i) \\lambda} $\n",
    "\n",
    "Esta propiedad de conjugación es útil en problemas que involucran tasas de llegada o tiempos de espera, donde la distribución exponencial es comúnmente utilizada.\n",
    "\n",
    "Estas son solo algunas de las distribuciones conjugadas comunes. Dependiendo del problema específico, las distribuciones a priori conjugadas pueden variar. La propiedad de conjugación es extremadamente útil en el contexto bayesiano, ya que simplifica significativamente los cálculos analíticos y computacionales."
   ]
  },
  {
   "cell_type": "markdown",
   "id": "c65e31a2-428b-45b0-8542-9612a31f77ae",
   "metadata": {
    "tags": []
   },
   "source": [
    "#### Conjugate of a Bernoulli distributed prior:\n",
    "$$\n",
    "Prior: p(\\theta | \\alpha, \\beta) = \\frac{\\theta^{\\alpha - 1} (1 - \\theta)^{\\beta - 1}}{B(\\alpha, \\beta)}\n",
    "$$\n",
    "\n",
    "$$ MLE:L(\\theta) = \\theta^{k} (1 - \\theta)^{n - k}$$\n",
    "\n",
    "\n",
    "$$ Posterior: p(\\theta | k, n, \\alpha, \\beta) \\propto \\theta^{k + \\alpha - 1} (1 - \\theta)^{n - k + \\beta - 1}\n",
    "$$"
   ]
  },
  {
   "cell_type": "markdown",
   "id": "5cae995d-4726-42a2-b148-4d3b7af1c10c",
   "metadata": {
    "tags": []
   },
   "source": [
    "\n",
    "\n",
    "$$B(\\alpha, \\beta) = \\frac{\\Gamma(\\alpha + \\beta)}{\\Gamma(\\alpha) \\times \\Gamma(\\beta)}$$\n",
    "$$\\Gamma(x) = \\int_{0}^{\\infty} t^{x - 1} e^{-t} dt $$\n",
    "\n",
    "<div style=\"text-align:center\"> $\\Gamma(x+1) = x*\\Gamma(x)$, por lo que es una generalización de la función factorial\n",
    "</div>\n",
    "\n",
    "$Beta(1,1) ≡ Uniform(0,1)$"
   ]
  }
 ],
 "metadata": {
  "kernelspec": {
   "display_name": "Python 3 (ipykernel)",
   "language": "python",
   "name": "python3"
  },
  "language_info": {
   "codemirror_mode": {
    "name": "ipython",
    "version": 3
   },
   "file_extension": ".py",
   "mimetype": "text/x-python",
   "name": "python",
   "nbconvert_exporter": "python",
   "pygments_lexer": "ipython3",
   "version": "3.10.9"
  }
 },
 "nbformat": 4,
 "nbformat_minor": 5
}
