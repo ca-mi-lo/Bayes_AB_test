{
 "cells": [
  {
   "cell_type": "markdown",
   "id": "2b6ef1db-fd1e-4034-9ba1-252d602f87f0",
   "metadata": {
    "tags": []
   },
   "source": [
    "#### Review Probability: cdfs & percentiles"
   ]
  },
  {
   "cell_type": "code",
   "execution_count": 18,
   "id": "6ca99c44-71b5-4b66-8439-fcdcffe17e5a",
   "metadata": {
    "tags": []
   },
   "outputs": [],
   "source": [
    "import numpy as np\n",
    "import matplotlib.pyplot as plt\n",
    "from scipy.stats import norm\n",
    "import math"
   ]
  },
  {
   "cell_type": "code",
   "execution_count": 33,
   "id": "6bc87119-83df-4a84-8c19-a291d40abda3",
   "metadata": {
    "tags": []
   },
   "outputs": [],
   "source": [
    "mu = 170\n",
    "sd = 7"
   ]
  },
  {
   "cell_type": "code",
   "execution_count": 38,
   "id": "e4097857-2b99-4478-a610-5b94a8c6ebc7",
   "metadata": {
    "tags": []
   },
   "outputs": [],
   "source": [
    "#generate samples from our distribution\n",
    "x = norm.rvs(loc=mu, scale=sd, size=10000)"
   ]
  },
  {
   "cell_type": "code",
   "execution_count": 39,
   "id": "a90ea91a-3fec-4994-b534-69db976d1125",
   "metadata": {
    "tags": []
   },
   "outputs": [
    {
     "data": {
      "text/plain": [
       "170.14770465460285"
      ]
     },
     "execution_count": 39,
     "metadata": {},
     "output_type": "execute_result"
    }
   ],
   "source": [
    "# maximum likelihood mean\n",
    "x.mean()"
   ]
  },
  {
   "cell_type": "code",
   "execution_count": 40,
   "id": "1d3e7026-6f0b-49f0-b05a-471b98b184de",
   "metadata": {
    "tags": []
   },
   "outputs": [
    {
     "data": {
      "text/plain": [
       "(49.70584445785418, 49.70584445785418)"
      ]
     },
     "execution_count": 40,
     "metadata": {},
     "output_type": "execute_result"
    }
   ],
   "source": [
    "# maximum likelihood variance\n",
    "((x-x.mean())**2).mean(), x.var()"
   ]
  },
  {
   "cell_type": "code",
   "execution_count": 41,
   "id": "59943485-fe89-4ec1-b60e-a5abd9be309a",
   "metadata": {
    "tags": []
   },
   "outputs": [
    {
     "data": {
      "text/plain": [
       "(7.0502371916024345, 7.0502371916024345)"
      ]
     },
     "execution_count": 41,
     "metadata": {},
     "output_type": "execute_result"
    }
   ],
   "source": [
    "# maximum likelihood std\n",
    "x.std(), math.sqrt(x.var())"
   ]
  },
  {
   "cell_type": "code",
   "execution_count": 42,
   "id": "0ac870bd-2d47-41aa-905f-ca9cffde9812",
   "metadata": {
    "tags": []
   },
   "outputs": [
    {
     "data": {
      "text/plain": [
       "(49.71081553940812, 49.71081553940812)"
      ]
     },
     "execution_count": 42,
     "metadata": {},
     "output_type": "execute_result"
    }
   ],
   "source": [
    "# unbiased variance\n",
    "x.var(ddof=1), ((x-x.mean())**2).sum()/(len(x)-1)"
   ]
  },
  {
   "cell_type": "code",
   "execution_count": 43,
   "id": "80e7ad82-10c9-40d9-84c6-35810ef0bc82",
   "metadata": {
    "tags": []
   },
   "outputs": [
    {
     "data": {
      "text/plain": [
       "(7.050589729902607, 7.050589729902607)"
      ]
     },
     "execution_count": 43,
     "metadata": {},
     "output_type": "execute_result"
    }
   ],
   "source": [
    "# unbiased std\n",
    "x.std(ddof=1), math.sqrt(x.var(ddof=1))"
   ]
  },
  {
   "cell_type": "code",
   "execution_count": 44,
   "id": "4c6f6321-70c3-47f6-929e-e7c5d7faea8d",
   "metadata": {
    "tags": []
   },
   "outputs": [
    {
     "data": {
      "text/plain": [
       "181.5139753886603"
      ]
     },
     "execution_count": 44,
     "metadata": {},
     "output_type": "execute_result"
    }
   ],
   "source": [
    "# At what height are you in the 95th percentile?\n",
    "norm.ppf(0.95,loc=mu,scale=sd)"
   ]
  },
  {
   "cell_type": "code",
   "execution_count": 45,
   "id": "06eb7752-d21d-4a63-bfa6-8fa13a88e72f",
   "metadata": {
    "tags": []
   },
   "outputs": [
    {
     "data": {
      "text/plain": [
       "0.07656372550983476"
      ]
     },
     "execution_count": 45,
     "metadata": {},
     "output_type": "execute_result"
    }
   ],
   "source": [
    "# you are 160 tall, what percentile are you in?\n",
    "norm.cdf(160, loc=mu,scale=sd)"
   ]
  },
  {
   "cell_type": "code",
   "execution_count": 54,
   "id": "aeb0ea1e-ebe9-4d24-a884-b2bd22de565d",
   "metadata": {
    "tags": []
   },
   "outputs": [
    {
     "data": {
      "text/plain": [
       "(0.07656372550983481, 0.07656372550983476)"
      ]
     },
     "execution_count": 54,
     "metadata": {},
     "output_type": "execute_result"
    }
   ],
   "source": [
    "# you are 180cm tall, what is the probability that someone is taller than you?\n",
    "1-norm.cdf(180,loc=mu,scale=sd), norm.sf(180, loc=mu,scale=sd) # survivial function"
   ]
  },
  {
   "cell_type": "markdown",
   "id": "82bc4316-5f74-42f1-847a-a5eb9e5c3aaa",
   "metadata": {},
   "source": [
    "Los valores de la cdf(160) se parecen a los de la sd(180) porque la media está en 170 y es una función simétrica"
   ]
  },
  {
   "cell_type": "code",
   "execution_count": null,
   "id": "aff7daee-c6d3-44e2-8c24-b80283de71b3",
   "metadata": {},
   "outputs": [],
   "source": []
  },
  {
   "cell_type": "code",
   "execution_count": null,
   "id": "5d1786dc-7d88-4492-9a3d-09444ad07554",
   "metadata": {},
   "outputs": [],
   "source": []
  }
 ],
 "metadata": {
  "kernelspec": {
   "display_name": "Python 3 (ipykernel)",
   "language": "python",
   "name": "python3"
  },
  "language_info": {
   "codemirror_mode": {
    "name": "ipython",
    "version": 3
   },
   "file_extension": ".py",
   "mimetype": "text/x-python",
   "name": "python",
   "nbconvert_exporter": "python",
   "pygments_lexer": "ipython3",
   "version": "3.10.9"
  }
 },
 "nbformat": 4,
 "nbformat_minor": 5
}
