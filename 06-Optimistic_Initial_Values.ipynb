{
 "cells": [
  {
   "cell_type": "code",
   "execution_count": 4,
   "id": "64b10ba4-f5d5-44f2-a7ef-fe3ede72cbd5",
   "metadata": {
    "tags": []
   },
   "outputs": [],
   "source": [
    "# From the course: Bayesin Machine Learning in Python: A/B Testing\n",
    "# https://deeplearningcourses.com/c/bayesian-machine-learning-in-python-ab-testing\n",
    "# https://www.udemy.com/bayesian-machine-learning-in-python-ab-testing\n",
    "from __future__ import print_function, division\n",
    "from builtins import range\n",
    "# Note: you may need to update your version of future\n",
    "# sudo pip install -U future"
   ]
  },
  {
   "cell_type": "code",
   "execution_count": 5,
   "id": "60f4d56e-8472-49fc-9adb-ccaa80385f83",
   "metadata": {
    "tags": []
   },
   "outputs": [],
   "source": [
    "import matplotlib.pyplot as plt\n",
    "import numpy as np"
   ]
  },
  {
   "cell_type": "code",
   "execution_count": 6,
   "id": "bb0ea3f5-3305-4369-aa34-2db38c951a37",
   "metadata": {
    "tags": []
   },
   "outputs": [],
   "source": [
    "NUM_TRIALS = 10000\n",
    "EPS = 0.1\n",
    "BANDIT_PROBABILITIES = [0.2, 0.5, 0.75]"
   ]
  },
  {
   "cell_type": "code",
   "execution_count": 17,
   "id": "d159ef1c-caa3-4dc9-9417-8fbae568b655",
   "metadata": {
    "tags": []
   },
   "outputs": [],
   "source": [
    "class Bandit:\n",
    "    def __init__(self, p):\n",
    "        # p: the win rate\n",
    "        self.p = p\n",
    "        self.p_estimate = 5 # A high initial value !!!\n",
    "        self.N = 1 # Trick: You have to set N=1, de otra forma se borrará el p_estimate (Ver update function)\n",
    "\n",
    "    def pull(self):\n",
    "        # draw a 1 with probability p\n",
    "        return np.random.random() < self.p\n",
    "\n",
    "    def update(self, x):\n",
    "        self.N += 1.\n",
    "        # Si empezamos en N=0, acá valdría N=1, y (1-1)*p_estimate no usaría el optimistic high value\n",
    "        self.p_estimate = ((self.N-1) / self.N)*self.p_estimate + (x / self.N)  "
   ]
  },
  {
   "cell_type": "code",
   "execution_count": 28,
   "id": "9afd6e2f-8734-451e-ac4c-390cafcd2f51",
   "metadata": {
    "tags": []
   },
   "outputs": [
    {
     "name": "stdout",
     "output_type": "stream",
     "text": [
      "mean estimate: 0.7\n",
      "mean estimate: 0.7241379310344827\n",
      "mean estimate: 0.7623444399839401\n",
      "total reward earned: 7609.0\n",
      "overall win rate: 0.7609\n",
      "num times selected each bandit: [10.0, 29.0, 9964.0]\n"
     ]
    },
    {
     "data": {
      "image/png": "[encoded data removed]",
      "text/plain": [
       "<Figure size 640x480 with 1 Axes>"
      ]
     },
     "metadata": {},
     "output_type": "display_data"
    }
   ],
   "source": [
    "def experiment():\n",
    "    bandits = [Bandit(p) for p in BANDIT_PROBABILITIES]\n",
    "    rewards = np.zeros(NUM_TRIALS)\n",
    "    \n",
    "    for i in range(NUM_TRIALS):\n",
    "        # use optimistic initial values to select the next bandit\n",
    "        # no se necesita opción epsilon porque si un bandido se empieza a usar más, empieza a bajar de promedio y por lo tanto se empieza a explorar otro bandido\n",
    "        j = np.argmax([b.p_estimate for b in bandits]) # TODO\n",
    "\n",
    "        # pull the arm for the bandit with the largest sample\n",
    "        x = bandits[j].pull()\n",
    "\n",
    "        # update rewards log\n",
    "        rewards[i] = x\n",
    "\n",
    "        # update the distribution for the bandit whose arm we just pulled\n",
    "        bandits[j].update(x)\n",
    "        \n",
    "        \n",
    "    # print mean estimates for each bandit\n",
    "    for b in bandits:\n",
    "        print(\"mean estimate:\", b.p_estimate)\n",
    "\n",
    "    # print total reward\n",
    "    print(\"total reward earned:\", rewards.sum())\n",
    "    print(\"overall win rate:\", rewards.sum() / NUM_TRIALS)\n",
    "    print(\"num times selected each bandit:\", [b.N for b in bandits])\n",
    "\n",
    "    # plot the results\n",
    "    cumulative_rewards = np.cumsum(rewards)\n",
    "    win_rates = cumulative_rewards / (np.arange(NUM_TRIALS) + 1)\n",
    "    plt.ylim([0, 1])\n",
    "    plt.plot(win_rates)\n",
    "    plt.plot(np.ones(NUM_TRIALS)*np.max(BANDIT_PROBABILITIES))\n",
    "    plt.show()\n",
    "\n",
    "if __name__ == \"__main__\":\n",
    "  experiment()"
   ]
  },
  {
   "cell_type": "markdown",
   "id": "7d26fe3e-b2f3-45dc-989e-cfca7330e92f",
   "metadata": {
    "tags": []
   },
   "source": [
    "#### Aprendizajes\n",
    "1) Mejoramos mucho cerrando el gap entre win_rate y optimal rate, pues ya no experimentamos tanto\n",
    "2) Los mean_estimates(salvo el óptimo, quizás) no se acercan al valor de probabildad pre-asignada.\n",
    "   La razón es que los bandidos sub-óptimos se dejan de seleccionar (y de updatear) una vez que su promedio desciende por debajo de 0.75 (reward del bandido óptimo) y no logran converger al true-mean.\n",
    "3) La cantidad de tiempo que pasamos usando el bandido óptimo es muchísimo mayor que con el algoritmo greedy.\n",
    "   num times selected each bandit: [10.0, 29.0, 9964.0]"
   ]
  },
  {
   "cell_type": "code",
   "execution_count": 22,
   "id": "16302f29-1f3b-4359-8bac-df91bd85b133",
   "metadata": {
    "tags": []
   },
   "outputs": [
    {
     "name": "stdout",
     "output_type": "stream",
     "text": [
      "Variable               Type        Data/Info\n",
      "--------------------------------------------\n",
      "BANDIT_PROBABILITIES   list        n=3\n",
      "Bandit                 type        <class '__main__.Bandit'>\n",
      "EPS                    float       0.1\n",
      "NUM_TRIALS             int         10000\n",
      "division               _Feature    _Feature((2, 2, 0, 'alpha<...>, 0, 'alpha', 0), 131072)\n",
      "experiment             function    <function experiment at 0x7fbf277dd480>\n",
      "np                     module      <module 'numpy' from '/ho<...>kages/numpy/__init__.py'>\n",
      "plt                    module      <module 'matplotlib.pyplo<...>es/matplotlib/pyplot.py'>\n",
      "print_function         _Feature    _Feature((2, 6, 0, 'alpha<...> 0, 'alpha', 0), 1048576)\n",
      "range                  type        <class 'range'>\n"
     ]
    }
   ],
   "source": [
    "%whos"
   ]
  },
  {
   "cell_type": "code",
   "execution_count": null,
   "id": "84bf1b69-d55a-4a7b-a70a-57e0e997aa46",
   "metadata": {},
   "outputs": [],
   "source": []
  }
 ],
 "metadata": {
  "kernelspec": {
   "display_name": "Python 3 (ipykernel)",
   "language": "python",
   "name": "python3"
  },
  "language_info": {
   "codemirror_mode": {
    "name": "ipython",
    "version": 3
   },
   "file_extension": ".py",
   "mimetype": "text/x-python",
   "name": "python",
   "nbconvert_exporter": "python",
   "pygments_lexer": "ipython3",
   "version": "3.10.9"
  }
 },
 "nbformat": 4,
 "nbformat_minor": 5
}
