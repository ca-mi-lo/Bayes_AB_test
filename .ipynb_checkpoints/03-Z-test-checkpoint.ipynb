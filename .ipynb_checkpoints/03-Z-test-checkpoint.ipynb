{
 "cells": [
  {
   "cell_type": "code",
   "execution_count": 3,
   "id": "5ef1394b-49cc-44e1-8967-9347e575cb22",
   "metadata": {
    "tags": []
   },
   "outputs": [],
   "source": [
    "import numpy as np\n",
    "from scipy.stats import norm\n",
    "from statsmodels.stats.weightstats import ztest"
   ]
  },
  {
   "cell_type": "markdown",
   "id": "458dfe58-2bc3-4cc0-8920-747b5bfce224",
   "metadata": {},
   "source": [
    "$$  Z = \\frac{X - \\mu}{\\sigma} \\Rightarrow X = Z \\cdot \\sigma + \\mu  $$"
   ]
  },
  {
   "cell_type": "code",
   "execution_count": 5,
   "id": "91519e22-093c-4067-a6d3-8e5a7e539116",
   "metadata": {
    "tags": []
   },
   "outputs": [],
   "source": [
    "np.random.seed(0)\n",
    "N = 100\n",
    "mu = 0.2\n",
    "sigma = 1\n",
    "x = np.random.randn(N)*sigma + mu"
   ]
  },
  {
   "cell_type": "code",
   "execution_count": 20,
   "id": "88a45ff0-cc48-40a3-9e4a-72d9f50b7f4e",
   "metadata": {
    "tags": []
   },
   "outputs": [
    {
     "name": "stdout",
     "output_type": "stream",
     "text": [
      "z-statistic: 2.5648\n",
      "p-value:     0.0103\n"
     ]
    }
   ],
   "source": [
    "# two-sided test\n",
    "# https://www.statsmodels.org/stable/generated/statsmodels.stats.weightstats.ztest.html\n",
    "print(f\"z-statistic: {ztest(x)[0]:.5}\\np-value:     {ztest(x)[1]:.3}\")"
   ]
  },
  {
   "cell_type": "code",
   "execution_count": 21,
   "id": "4d8fb5c7-2f12-41d0-aa02-7d5899c70547",
   "metadata": {
    "tags": []
   },
   "outputs": [
    {
     "data": {
      "text/plain": [
       "(2.564840415351368, 0.010322326848815901)"
      ]
     },
     "execution_count": 21,
     "metadata": {},
     "output_type": "execute_result"
    }
   ],
   "source": [
    "# two-sided test (a pie)\n",
    "mu_hat = x.mean()\n",
    "sigma_hat = x.std(ddof=1)\n",
    "z = mu_hat / (sigma_hat / np.sqrt(N)) # our mu0 = 0,  no pinta en la fórmula por eso\n",
    "p_right = 1 - norm.cdf(np.abs(z)) # alt: norm.sf\n",
    "p_left  = norm.cdf(-np.abs(z))\n",
    "p = p_right + p_left\n",
    "z, p"
   ]
  },
  {
   "cell_type": "code",
   "execution_count": null,
   "id": "6fb3ff9b-f5d8-453b-9718-cdee3e72be79",
   "metadata": {},
   "outputs": [],
   "source": []
  }
 ],
 "metadata": {
  "kernelspec": {
   "display_name": "Python 3 (ipykernel)",
   "language": "python",
   "name": "python3"
  },
  "language_info": {
   "codemirror_mode": {
    "name": "ipython",
    "version": 3
   },
   "file_extension": ".py",
   "mimetype": "text/x-python",
   "name": "python",
   "nbconvert_exporter": "python",
   "pygments_lexer": "ipython3",
   "version": "3.10.9"
  }
 },
 "nbformat": 4,
 "nbformat_minor": 5
}
